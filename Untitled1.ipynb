{
  "nbformat": 4,
  "nbformat_minor": 0,
  "metadata": {
    "colab": {
      "provenance": []
    },
    "kernelspec": {
      "name": "python3",
      "display_name": "Python 3"
    },
    "language_info": {
      "name": "python"
    }
  },
  "cells": [
    {
      "cell_type": "code",
      "source": [
        "!pip install -q gputil\n"
      ],
      "metadata": {
        "colab": {
          "base_uri": "https://localhost:8080/"
        },
        "id": "CxtQ95Z0erqn",
        "outputId": "fe6c6b8b-6777-4db6-8f34-14550b7cb71b"
      },
      "execution_count": 10,
      "outputs": [
        {
          "output_type": "stream",
          "name": "stdout",
          "text": [
            "  Preparing metadata (setup.py) ... \u001b[?25l\u001b[?25hdone\n",
            "  Building wheel for gputil (setup.py) ... \u001b[?25l\u001b[?25hdone\n"
          ]
        }
      ]
    },
    {
      "cell_type": "code",
      "source": [
        "import GPUtil\n"
      ],
      "metadata": {
        "id": "u0WutH6Tev8a"
      },
      "execution_count": 11,
      "outputs": []
    },
    {
      "cell_type": "code",
      "source": [
        "# Install dependencies\n",
        "!pip install ray torch torchvision pandas scikit-learn\n",
        "!pip install -U ray"
      ],
      "metadata": {
        "colab": {
          "base_uri": "https://localhost:8080/"
        },
        "id": "I8TCjYKvXV4u",
        "outputId": "d7afa924-6d4f-48e6-b2aa-89ebedc82d28"
      },
      "execution_count": 1,
      "outputs": [
        {
          "output_type": "stream",
          "name": "stdout",
          "text": [
            "Requirement already satisfied: ray in /usr/local/lib/python3.11/dist-packages (2.44.1)\n",
            "Requirement already satisfied: torch in /usr/local/lib/python3.11/dist-packages (2.6.0+cu124)\n",
            "Requirement already satisfied: torchvision in /usr/local/lib/python3.11/dist-packages (0.21.0+cu124)\n",
            "Requirement already satisfied: pandas in /usr/local/lib/python3.11/dist-packages (2.2.2)\n",
            "Requirement already satisfied: scikit-learn in /usr/local/lib/python3.11/dist-packages (1.6.1)\n",
            "Requirement already satisfied: click>=7.0 in /usr/local/lib/python3.11/dist-packages (from ray) (8.1.8)\n",
            "Requirement already satisfied: filelock in /usr/local/lib/python3.11/dist-packages (from ray) (3.18.0)\n",
            "Requirement already satisfied: jsonschema in /usr/local/lib/python3.11/dist-packages (from ray) (4.23.0)\n",
            "Requirement already satisfied: msgpack<2.0.0,>=1.0.0 in /usr/local/lib/python3.11/dist-packages (from ray) (1.1.0)\n",
            "Requirement already satisfied: packaging in /usr/local/lib/python3.11/dist-packages (from ray) (24.2)\n",
            "Requirement already satisfied: protobuf!=3.19.5,>=3.15.3 in /usr/local/lib/python3.11/dist-packages (from ray) (5.29.4)\n",
            "Requirement already satisfied: pyyaml in /usr/local/lib/python3.11/dist-packages (from ray) (6.0.2)\n",
            "Requirement already satisfied: aiosignal in /usr/local/lib/python3.11/dist-packages (from ray) (1.3.2)\n",
            "Requirement already satisfied: frozenlist in /usr/local/lib/python3.11/dist-packages (from ray) (1.5.0)\n",
            "Requirement already satisfied: requests in /usr/local/lib/python3.11/dist-packages (from ray) (2.32.3)\n",
            "Requirement already satisfied: typing-extensions>=4.10.0 in /usr/local/lib/python3.11/dist-packages (from torch) (4.13.1)\n",
            "Requirement already satisfied: networkx in /usr/local/lib/python3.11/dist-packages (from torch) (3.4.2)\n",
            "Requirement already satisfied: jinja2 in /usr/local/lib/python3.11/dist-packages (from torch) (3.1.6)\n",
            "Requirement already satisfied: fsspec in /usr/local/lib/python3.11/dist-packages (from torch) (2025.3.2)\n",
            "Requirement already satisfied: nvidia-cuda-nvrtc-cu12==12.4.127 in /usr/local/lib/python3.11/dist-packages (from torch) (12.4.127)\n",
            "Requirement already satisfied: nvidia-cuda-runtime-cu12==12.4.127 in /usr/local/lib/python3.11/dist-packages (from torch) (12.4.127)\n",
            "Requirement already satisfied: nvidia-cuda-cupti-cu12==12.4.127 in /usr/local/lib/python3.11/dist-packages (from torch) (12.4.127)\n",
            "Requirement already satisfied: nvidia-cudnn-cu12==9.1.0.70 in /usr/local/lib/python3.11/dist-packages (from torch) (9.1.0.70)\n",
            "Requirement already satisfied: nvidia-cublas-cu12==12.4.5.8 in /usr/local/lib/python3.11/dist-packages (from torch) (12.4.5.8)\n",
            "Requirement already satisfied: nvidia-cufft-cu12==11.2.1.3 in /usr/local/lib/python3.11/dist-packages (from torch) (11.2.1.3)\n",
            "Requirement already satisfied: nvidia-curand-cu12==10.3.5.147 in /usr/local/lib/python3.11/dist-packages (from torch) (10.3.5.147)\n",
            "Requirement already satisfied: nvidia-cusolver-cu12==11.6.1.9 in /usr/local/lib/python3.11/dist-packages (from torch) (11.6.1.9)\n",
            "Requirement already satisfied: nvidia-cusparse-cu12==12.3.1.170 in /usr/local/lib/python3.11/dist-packages (from torch) (12.3.1.170)\n",
            "Requirement already satisfied: nvidia-cusparselt-cu12==0.6.2 in /usr/local/lib/python3.11/dist-packages (from torch) (0.6.2)\n",
            "Requirement already satisfied: nvidia-nccl-cu12==2.21.5 in /usr/local/lib/python3.11/dist-packages (from torch) (2.21.5)\n",
            "Requirement already satisfied: nvidia-nvtx-cu12==12.4.127 in /usr/local/lib/python3.11/dist-packages (from torch) (12.4.127)\n",
            "Requirement already satisfied: nvidia-nvjitlink-cu12==12.4.127 in /usr/local/lib/python3.11/dist-packages (from torch) (12.4.127)\n",
            "Requirement already satisfied: triton==3.2.0 in /usr/local/lib/python3.11/dist-packages (from torch) (3.2.0)\n",
            "Requirement already satisfied: sympy==1.13.1 in /usr/local/lib/python3.11/dist-packages (from torch) (1.13.1)\n",
            "Requirement already satisfied: mpmath<1.4,>=1.1.0 in /usr/local/lib/python3.11/dist-packages (from sympy==1.13.1->torch) (1.3.0)\n",
            "Requirement already satisfied: numpy in /usr/local/lib/python3.11/dist-packages (from torchvision) (2.0.2)\n",
            "Requirement already satisfied: pillow!=8.3.*,>=5.3.0 in /usr/local/lib/python3.11/dist-packages (from torchvision) (11.1.0)\n",
            "Requirement already satisfied: python-dateutil>=2.8.2 in /usr/local/lib/python3.11/dist-packages (from pandas) (2.8.2)\n",
            "Requirement already satisfied: pytz>=2020.1 in /usr/local/lib/python3.11/dist-packages (from pandas) (2025.2)\n",
            "Requirement already satisfied: tzdata>=2022.7 in /usr/local/lib/python3.11/dist-packages (from pandas) (2025.2)\n",
            "Requirement already satisfied: scipy>=1.6.0 in /usr/local/lib/python3.11/dist-packages (from scikit-learn) (1.14.1)\n",
            "Requirement already satisfied: joblib>=1.2.0 in /usr/local/lib/python3.11/dist-packages (from scikit-learn) (1.4.2)\n",
            "Requirement already satisfied: threadpoolctl>=3.1.0 in /usr/local/lib/python3.11/dist-packages (from scikit-learn) (3.6.0)\n",
            "Requirement already satisfied: six>=1.5 in /usr/local/lib/python3.11/dist-packages (from python-dateutil>=2.8.2->pandas) (1.17.0)\n",
            "Requirement already satisfied: MarkupSafe>=2.0 in /usr/local/lib/python3.11/dist-packages (from jinja2->torch) (3.0.2)\n",
            "Requirement already satisfied: attrs>=22.2.0 in /usr/local/lib/python3.11/dist-packages (from jsonschema->ray) (25.3.0)\n",
            "Requirement already satisfied: jsonschema-specifications>=2023.03.6 in /usr/local/lib/python3.11/dist-packages (from jsonschema->ray) (2024.10.1)\n",
            "Requirement already satisfied: referencing>=0.28.4 in /usr/local/lib/python3.11/dist-packages (from jsonschema->ray) (0.36.2)\n",
            "Requirement already satisfied: rpds-py>=0.7.1 in /usr/local/lib/python3.11/dist-packages (from jsonschema->ray) (0.24.0)\n",
            "Requirement already satisfied: charset-normalizer<4,>=2 in /usr/local/lib/python3.11/dist-packages (from requests->ray) (3.4.1)\n",
            "Requirement already satisfied: idna<4,>=2.5 in /usr/local/lib/python3.11/dist-packages (from requests->ray) (3.10)\n",
            "Requirement already satisfied: urllib3<3,>=1.21.1 in /usr/local/lib/python3.11/dist-packages (from requests->ray) (2.3.0)\n",
            "Requirement already satisfied: certifi>=2017.4.17 in /usr/local/lib/python3.11/dist-packages (from requests->ray) (2025.1.31)\n",
            "Requirement already satisfied: ray in /usr/local/lib/python3.11/dist-packages (2.44.1)\n",
            "Requirement already satisfied: click>=7.0 in /usr/local/lib/python3.11/dist-packages (from ray) (8.1.8)\n",
            "Requirement already satisfied: filelock in /usr/local/lib/python3.11/dist-packages (from ray) (3.18.0)\n",
            "Requirement already satisfied: jsonschema in /usr/local/lib/python3.11/dist-packages (from ray) (4.23.0)\n",
            "Requirement already satisfied: msgpack<2.0.0,>=1.0.0 in /usr/local/lib/python3.11/dist-packages (from ray) (1.1.0)\n",
            "Requirement already satisfied: packaging in /usr/local/lib/python3.11/dist-packages (from ray) (24.2)\n",
            "Requirement already satisfied: protobuf!=3.19.5,>=3.15.3 in /usr/local/lib/python3.11/dist-packages (from ray) (5.29.4)\n",
            "Requirement already satisfied: pyyaml in /usr/local/lib/python3.11/dist-packages (from ray) (6.0.2)\n",
            "Requirement already satisfied: aiosignal in /usr/local/lib/python3.11/dist-packages (from ray) (1.3.2)\n",
            "Requirement already satisfied: frozenlist in /usr/local/lib/python3.11/dist-packages (from ray) (1.5.0)\n",
            "Requirement already satisfied: requests in /usr/local/lib/python3.11/dist-packages (from ray) (2.32.3)\n",
            "Requirement already satisfied: attrs>=22.2.0 in /usr/local/lib/python3.11/dist-packages (from jsonschema->ray) (25.3.0)\n",
            "Requirement already satisfied: jsonschema-specifications>=2023.03.6 in /usr/local/lib/python3.11/dist-packages (from jsonschema->ray) (2024.10.1)\n",
            "Requirement already satisfied: referencing>=0.28.4 in /usr/local/lib/python3.11/dist-packages (from jsonschema->ray) (0.36.2)\n",
            "Requirement already satisfied: rpds-py>=0.7.1 in /usr/local/lib/python3.11/dist-packages (from jsonschema->ray) (0.24.0)\n",
            "Requirement already satisfied: charset-normalizer<4,>=2 in /usr/local/lib/python3.11/dist-packages (from requests->ray) (3.4.1)\n",
            "Requirement already satisfied: idna<4,>=2.5 in /usr/local/lib/python3.11/dist-packages (from requests->ray) (3.10)\n",
            "Requirement already satisfied: urllib3<3,>=1.21.1 in /usr/local/lib/python3.11/dist-packages (from requests->ray) (2.3.0)\n",
            "Requirement already satisfied: certifi>=2017.4.17 in /usr/local/lib/python3.11/dist-packages (from requests->ray) (2025.1.31)\n",
            "Requirement already satisfied: typing-extensions>=4.4.0 in /usr/local/lib/python3.11/dist-packages (from referencing>=0.28.4->jsonschema->ray) (4.13.1)\n"
          ]
        }
      ]
    },
    {
      "cell_type": "code",
      "source": [
        "import torch\n",
        "import torch.nn as nn\n",
        "import torch.nn.functional as F\n",
        "\n",
        "# Re-defining the RealModel exactly as used during training\n",
        "class RealModel(nn.Module):\n",
        "    def __init__(self, input_size, num_classes):\n",
        "        super(RealModel, self).__init__()\n",
        "        self.layer1 = nn.Linear(input_size, 256)\n",
        "        self.bn1 = nn.BatchNorm1d(256)\n",
        "        self.layer2 = nn.Linear(256, 128)\n",
        "        self.bn2 = nn.BatchNorm1d(128)\n",
        "        self.layer3 = nn.Linear(128, num_classes)\n",
        "        self.dropout = nn.Dropout(0.3)\n",
        "\n",
        "    def forward(self, x):\n",
        "        x = F.relu(self.bn1(self.layer1(x)))\n",
        "        x = self.dropout(x)\n",
        "        x = F.relu(self.bn2(self.layer2(x)))\n",
        "        x = self.dropout(x)\n",
        "        x = self.layer3(x)\n",
        "        return x\n",
        "\n",
        "# Function to predict a single sample\n",
        "def predict_single_sample(model_path, sample, input_size=20, num_classes=2):\n",
        "    model = RealModel(input_size, num_classes)\n",
        "    model.load_state_dict(torch.load(model_path, map_location=torch.device('cpu')))\n",
        "    model.eval()\n",
        "\n",
        "    sample = torch.FloatTensor(sample[:input_size]).unsqueeze(0)\n",
        "    with torch.no_grad():\n",
        "        output = model(sample)\n",
        "        _, predicted = torch.max(output.data, 1)\n",
        "\n",
        "    return predicted.item()\n"
      ],
      "metadata": {
        "id": "zyVVgQFndX96"
      },
      "execution_count": 83,
      "outputs": []
    },
    {
      "cell_type": "code",
      "source": [
        "\n",
        "!pip install -q ray\n",
        "\n",
        "import ray\n",
        "import torch.nn.functional as F\n",
        "\n",
        "# Initialize Ray\n",
        "ray.init(ignore_reinit_error=True)\n",
        "\n",
        " #Implement real training worker with metrics\n",
        "@ray.remote\n",
        "class RealTrainingWorker:\n",
        "    def __init__(self, config):\n",
        "        self.config = config\n",
        "        self.model = RealModel(X_train.shape[1], len(np.unique(y_train)))\n",
        "        self.optimizer = torch.optim.AdamW(self.model.parameters(),\n",
        "                                         lr=config['lr'],\n",
        "                                         weight_decay=config['weight_decay'])\n",
        "        self.scheduler = torch.optim.lr_scheduler.ReduceLROnPlateau(self.optimizer, 'max', patience=2)\n",
        "        self.device = torch.device(\"cuda\" if torch.cuda.is_available() else \"cpu\")\n",
        "        self.model.to(self.device)\n",
        "\n",
        "    def train(self, iterations):\n",
        "        train_loader = DataLoader(train_dataset,\n",
        "                                batch_size=self.config['batch_size'],\n",
        "                                shuffle=True)\n",
        "\n",
        "        val_loader = DataLoader(test_dataset,\n",
        "                              batch_size=self.config['batch_size'])\n",
        "\n",
        "        best_val_acc = 0\n",
        "        early_stop_counter = 0\n",
        "\n",
        "        for epoch in range(iterations):\n",
        "            # Training\n",
        "            self.model.train()\n",
        "            train_loss = 0\n",
        "            for batch in train_loader:\n",
        "                x, y = batch\n",
        "                x, y = x.to(self.device), y.to(self.device)\n",
        "\n",
        "                self.optimizer.zero_grad()\n",
        "                outputs = self.model(x)\n",
        "                loss = F.cross_entropy(outputs, y)\n",
        "                loss.backward()\n",
        "                self.optimizer.step()\n",
        "                train_loss += loss.item()\n",
        "\n",
        "            # Validation\n",
        "            self.model.eval()\n",
        "            val_loss = 0\n",
        "            correct = 0\n",
        "            total = 0\n",
        "            with torch.no_grad():\n",
        "                for batch in val_loader:\n",
        "                    x, y = batch\n",
        "                    x, y = x.to(self.device), y.to(self.device)\n",
        "                    outputs = self.model(x)\n",
        "                    val_loss += F.cross_entropy(outputs, y).item()\n",
        "                    _, predicted = torch.max(outputs.data, 1)\n",
        "                    total += y.size(0)\n",
        "                    correct += (predicted == y).sum().item()\n",
        "\n",
        "            val_acc = correct / total\n",
        "            self.scheduler.step(val_acc)\n",
        "\n",
        "            # Early stopping check\n",
        "            if val_acc > best_val_acc:\n",
        "                best_val_acc = val_acc\n",
        "                early_stop_counter = 0\n",
        "            else:\n",
        "                early_stop_counter += 1\n",
        "                if early_stop_counter >= 3:\n",
        "                    break\n",
        "\n",
        "        return {\n",
        "            \"accuracy\": best_val_acc,\n",
        "            \"config\": self.config,\n",
        "            \"device\": str(self.device),\n",
        "            \"actual_iterations\": epoch + 1\n",
        "        }"
      ],
      "metadata": {
        "colab": {
          "base_uri": "https://localhost:8080/"
        },
        "id": "OdV7zaMsdZHI",
        "outputId": "b8e18304-4309-4ca8-d60c-09be8e1c2205"
      },
      "execution_count": 8,
      "outputs": [
        {
          "output_type": "stream",
          "name": "stderr",
          "text": [
            "2025-04-15 12:42:50,185\tINFO worker.py:1852 -- Started a local Ray instance.\n"
          ]
        }
      ]
    },
    {
      "cell_type": "code",
      "source": [
        "#  Initialize RubberBand with real resource monitoring\n",
        "import psutil\n",
        "import GPUtil\n",
        "class ResourceMonitor:\n",
        "    @staticmethod\n",
        "    def get_usage():\n",
        "        gpus = GPUtil.getGPUs()\n",
        "        return {\n",
        "            \"cpu_usage\": psutil.cpu_percent(),\n",
        "            \"ram_usage\": psutil.virtual_memory().percent,\n",
        "            \"gpu_usage\": gpus[0].load * 100 if gpus else 0,\n",
        "            \"gpu_mem\": gpus[0].memoryUsed if gpus else 0\n",
        "        }\n",
        "\n",
        "def create_real_profiling():\n",
        "    #  a benchmark to get real resource usage\n",
        "    test_model = RealModel(X_train.shape[1], len(np.unique(y_train))).cuda()\n",
        "    optimizer = torch.optim.Adam(test_model.parameters())\n",
        "\n",
        "    start_time = time.time()\n",
        "    for i, (x, y) in enumerate(DataLoader(train_dataset, batch_size=64)):\n",
        "        x, y = x.cuda(), y.cuda()\n",
        "        optimizer.zero_grad()\n",
        "        outputs = test_model(x)\n",
        "        loss = F.cross_entropy(outputs, y)\n",
        "        loss.backward()\n",
        "        optimizer.step()\n",
        "\n",
        "        if i == 10:\n",
        "            break\n",
        "\n",
        "    iter_time = (time.time() - start_time) / 10\n",
        "    resources = ResourceMonitor.get_usage()\n",
        "\n",
        "    return ProfilingData(\n",
        "        resource_usage={\n",
        "            ResourceType.CPU: 2,\n",
        "            ResourceType.GPU: 0.5,\n",
        "            ResourceType.MEMORY: resources['gpu_mem'] / 1024  # GB\n",
        "        },\n",
        "        iteration_time=iter_time,\n",
        "        accuracy_progression=lambda it: min(0.95, 0.7 + it*0.01)  # Real curve will vary\n",
        "    )"
      ],
      "metadata": {
        "id": "zww5YeFDeVLm"
      },
      "execution_count": 12,
      "outputs": []
    },
    {
      "cell_type": "code",
      "source": [
        "ray.init(\n",
        "    num_cpus=psutil.cpu_count(),\n",
        "    num_gpus=torch.cuda.device_count(),\n",
        "    dashboard_host='0.0.0.0',\n",
        "    ignore_reinit_error=True\n",
        ")\n"
      ],
      "metadata": {
        "colab": {
          "base_uri": "https://localhost:8080/",
          "height": 76
        },
        "id": "4x0rnjE7fCoo",
        "outputId": "63d3f1dc-a881-493b-fb44-8872ebd11d8b"
      },
      "execution_count": 14,
      "outputs": [
        {
          "output_type": "stream",
          "name": "stderr",
          "text": [
            "2025-04-15 12:46:03,380\tINFO worker.py:1684 -- Calling ray.init() again after it has already been called.\n"
          ]
        },
        {
          "output_type": "execute_result",
          "data": {
            "text/plain": [
              "RayContext(dashboard_url='', python_version='3.11.12', ray_version='2.44.1', ray_commit='daca7b2b1a950dc7f731e34e74c76ae383794ffe')"
            ],
            "text/html": [
              "<div class=\"lm-Widget p-Widget lm-Panel p-Panel jp-Cell-outputWrapper\">\n",
              "    <div style=\"margin-left: 50px;display: flex;flex-direction: row;align-items: center\">\n",
              "        <div class=\"jp-RenderedHTMLCommon\" style=\"display: flex; flex-direction: row;\">\n",
              "  <svg viewBox=\"0 0 567 224\" fill=\"none\" xmlns=\"http://www.w3.org/2000/svg\" style=\"height: 3em;\">\n",
              "    <g clip-path=\"url(#clip0_4338_178347)\">\n",
              "        <path d=\"M341.29 165.561H355.29L330.13 129.051C345.63 123.991 354.21 112.051 354.21 94.2307C354.21 71.3707 338.72 58.1807 311.88 58.1807H271V165.561H283.27V131.661H311.8C314.25 131.661 316.71 131.501 319.01 131.351L341.25 165.561H341.29ZM283.29 119.851V70.0007H311.82C331.3 70.0007 342.34 78.2907 342.34 94.5507C342.34 111.271 331.34 119.861 311.82 119.861L283.29 119.851ZM451.4 138.411L463.4 165.561H476.74L428.74 58.1807H416L367.83 165.561H380.83L392.83 138.411H451.4ZM446.19 126.601H398L422 72.1407L446.24 126.601H446.19ZM526.11 128.741L566.91 58.1807H554.35L519.99 114.181L485.17 58.1807H472.44L514.01 129.181V165.541H526.13V128.741H526.11Z\" fill=\"var(--jp-ui-font-color0)\"/>\n",
              "        <path d=\"M82.35 104.44C84.0187 97.8827 87.8248 92.0678 93.1671 87.9146C98.5094 83.7614 105.083 81.5067 111.85 81.5067C118.617 81.5067 125.191 83.7614 130.533 87.9146C135.875 92.0678 139.681 97.8827 141.35 104.44H163.75C164.476 101.562 165.622 98.8057 167.15 96.2605L127.45 56.5605C121.071 60.3522 113.526 61.6823 106.235 60.3005C98.9443 58.9187 92.4094 54.9203 87.8602 49.0574C83.3109 43.1946 81.0609 35.8714 81.5332 28.4656C82.0056 21.0599 85.1679 14.0819 90.4252 8.8446C95.6824 3.60726 102.672 0.471508 110.08 0.0272655C117.487 -0.416977 124.802 1.86091 130.647 6.4324C136.493 11.0039 140.467 17.5539 141.821 24.8501C143.175 32.1463 141.816 39.6859 138 46.0505L177.69 85.7505C182.31 82.9877 187.58 81.4995 192.962 81.4375C198.345 81.3755 203.648 82.742 208.33 85.3976C213.012 88.0532 216.907 91.9029 219.616 96.5544C222.326 101.206 223.753 106.492 223.753 111.875C223.753 117.258 222.326 122.545 219.616 127.197C216.907 131.848 213.012 135.698 208.33 138.353C203.648 141.009 198.345 142.375 192.962 142.313C187.58 142.251 182.31 140.763 177.69 138L138 177.7C141.808 184.071 143.155 191.614 141.79 198.91C140.424 206.205 136.44 212.75 130.585 217.313C124.731 221.875 117.412 224.141 110.004 223.683C102.596 223.226 95.6103 220.077 90.3621 214.828C85.1139 209.58 81.9647 202.595 81.5072 195.187C81.0497 187.779 83.3154 180.459 87.878 174.605C92.4405 168.751 98.9853 164.766 106.281 163.401C113.576 162.035 121.119 163.383 127.49 167.19L167.19 127.49C165.664 124.941 164.518 122.182 163.79 119.3H141.39C139.721 125.858 135.915 131.673 130.573 135.826C125.231 139.98 118.657 142.234 111.89 142.234C105.123 142.234 98.5494 139.98 93.2071 135.826C87.8648 131.673 84.0587 125.858 82.39 119.3H60C58.1878 126.495 53.8086 132.78 47.6863 136.971C41.5641 141.163 34.1211 142.972 26.7579 142.059C19.3947 141.146 12.6191 137.574 7.70605 132.014C2.79302 126.454 0.0813599 119.29 0.0813599 111.87C0.0813599 104.451 2.79302 97.2871 7.70605 91.7272C12.6191 86.1673 19.3947 82.5947 26.7579 81.6817C34.1211 80.7686 41.5641 82.5781 47.6863 86.7696C53.8086 90.9611 58.1878 97.2456 60 104.44H82.35ZM100.86 204.32C103.407 206.868 106.759 208.453 110.345 208.806C113.93 209.159 117.527 208.258 120.522 206.256C123.517 204.254 125.725 201.276 126.771 197.828C127.816 194.38 127.633 190.677 126.253 187.349C124.874 184.021 122.383 181.274 119.205 179.577C116.027 177.88 112.359 177.337 108.826 178.042C105.293 178.746 102.113 180.654 99.8291 183.44C97.5451 186.226 96.2979 189.718 96.3 193.32C96.2985 195.364 96.7006 197.388 97.4831 199.275C98.2656 201.163 99.4132 202.877 100.86 204.32ZM204.32 122.88C206.868 120.333 208.453 116.981 208.806 113.396C209.159 109.811 208.258 106.214 206.256 103.219C204.254 100.223 201.275 98.0151 197.827 96.97C194.38 95.9249 190.676 96.1077 187.348 97.4873C184.02 98.8669 181.274 101.358 179.577 104.536C177.879 107.714 177.337 111.382 178.041 114.915C178.746 118.448 180.653 121.627 183.439 123.911C186.226 126.195 189.717 127.443 193.32 127.44C195.364 127.443 197.388 127.042 199.275 126.259C201.163 125.476 202.878 124.328 204.32 122.88ZM122.88 19.4205C120.333 16.8729 116.981 15.2876 113.395 14.9347C109.81 14.5817 106.213 15.483 103.218 17.4849C100.223 19.4868 98.0146 22.4654 96.9696 25.9131C95.9245 29.3608 96.1073 33.0642 97.4869 36.3922C98.8665 39.7202 101.358 42.4668 104.535 44.1639C107.713 45.861 111.381 46.4036 114.914 45.6992C118.447 44.9949 121.627 43.0871 123.911 40.301C126.195 37.515 127.442 34.0231 127.44 30.4205C127.44 28.3772 127.038 26.3539 126.255 24.4664C125.473 22.5788 124.326 20.8642 122.88 19.4205ZM19.42 100.86C16.8725 103.408 15.2872 106.76 14.9342 110.345C14.5813 113.93 15.4826 117.527 17.4844 120.522C19.4863 123.518 22.4649 125.726 25.9127 126.771C29.3604 127.816 33.0638 127.633 36.3918 126.254C39.7198 124.874 42.4664 122.383 44.1635 119.205C45.8606 116.027 46.4032 112.359 45.6988 108.826C44.9944 105.293 43.0866 102.114 40.3006 99.8296C37.5145 97.5455 34.0227 96.2983 30.42 96.3005C26.2938 96.3018 22.337 97.9421 19.42 100.86ZM100.86 100.86C98.3125 103.408 96.7272 106.76 96.3742 110.345C96.0213 113.93 96.9226 117.527 98.9244 120.522C100.926 123.518 103.905 125.726 107.353 126.771C110.8 127.816 114.504 127.633 117.832 126.254C121.16 124.874 123.906 122.383 125.604 119.205C127.301 116.027 127.843 112.359 127.139 108.826C126.434 105.293 124.527 102.114 121.741 99.8296C118.955 97.5455 115.463 96.2983 111.86 96.3005C109.817 96.299 107.793 96.701 105.905 97.4835C104.018 98.2661 102.303 99.4136 100.86 100.86Z\" fill=\"#00AEEF\"/>\n",
              "    </g>\n",
              "    <defs>\n",
              "        <clipPath id=\"clip0_4338_178347\">\n",
              "            <rect width=\"566.93\" height=\"223.75\" fill=\"white\"/>\n",
              "        </clipPath>\n",
              "    </defs>\n",
              "  </svg>\n",
              "</div>\n",
              "\n",
              "        <table class=\"jp-RenderedHTMLCommon\" style=\"border-collapse: collapse;color: var(--jp-ui-font-color1);font-size: var(--jp-ui-font-size1);\">\n",
              "    <tr>\n",
              "        <td style=\"text-align: left\"><b>Python version:</b></td>\n",
              "        <td style=\"text-align: left\"><b>3.11.12</b></td>\n",
              "    </tr>\n",
              "    <tr>\n",
              "        <td style=\"text-align: left\"><b>Ray version:</b></td>\n",
              "        <td style=\"text-align: left\"><b>2.44.1</b></td>\n",
              "    </tr>\n",
              "    \n",
              "</table>\n",
              "\n",
              "    </div>\n",
              "</div>\n"
            ]
          },
          "metadata": {},
          "execution_count": 14
        }
      ]
    },
    {
      "cell_type": "code",
      "source": [
        "!mkdir images\n",
        "\n"
      ],
      "metadata": {
        "id": "TfuPCzzVi5GW"
      },
      "execution_count": 37,
      "outputs": []
    },
    {
      "cell_type": "code",
      "source": [
        "from sklearn.datasets import load_digits\n",
        "from sklearn.model_selection import train_test_split\n",
        "from sklearn.preprocessing import StandardScaler\n",
        "import torch\n",
        "\n",
        "# Load sample dataset\n",
        "digits = load_digits()\n",
        "X, y = digits.data, digits.target\n",
        "\n",
        "# Train/test split\n",
        "X_train, _, y_train, _ = train_test_split(X, y, test_size=0.2, random_state=42)\n",
        "\n",
        "\n",
        "scaler = StandardScaler()\n",
        "X_train = scaler.fit_transform(X_train)\n",
        "\n",
        "# Convert to tensors\n",
        "X_train = torch.tensor(X_train, dtype=torch.float32)\n",
        "y_train = torch.tensor(y_train, dtype=torch.long)\n"
      ],
      "metadata": {
        "id": "XaSh-l8rkzxC"
      },
      "execution_count": 104,
      "outputs": []
    },
    {
      "cell_type": "code",
      "source": [
        "ray.shutdown()\n"
      ],
      "metadata": {
        "id": "5eFSPs5tnqC7"
      },
      "execution_count": 49,
      "outputs": []
    },
    {
      "cell_type": "code",
      "source": [
        "import ray\n",
        "from sklearn.datasets import load_digits\n",
        "from sklearn.linear_model import SGDClassifier\n",
        "from sklearn.model_selection import train_test_split\n",
        "from sklearn.metrics import accuracy_score\n",
        "\n",
        "@ray.remote\n",
        "class RealTrainingWorker:\n",
        "    def __init__(self, config):\n",
        "        self.config = config\n",
        "        data = load_digits()\n",
        "        X, y = data.data, data.target\n",
        "        self.X_train, self.X_val, self.y_train, self.y_val = train_test_split(X, y, test_size=0.2, random_state=42)\n",
        "        self.model = SGDClassifier(\n",
        "            loss=\"log_loss\",\n",
        "            learning_rate=\"optimal\",\n",
        "            alpha=max(1e-6, config.get(\"weight_decay\", 1e-4)),\n",
        "            random_state=42\n",
        "        )\n",
        "\n",
        "    def train(self, iterations):\n",
        "        for _ in range(iterations):\n",
        "            self.model.partial_fit(self.X_train, self.y_train, classes=list(range(10)))\n",
        "        preds = self.model.predict(self.X_val)\n",
        "        acc = accuracy_score(self.y_val, preds)\n",
        "        return {\"accuracy\": acc, \"config\": self.config}\n"
      ],
      "metadata": {
        "id": "_uvxLb40e2I_"
      },
      "execution_count": 52,
      "outputs": []
    },
    {
      "cell_type": "code",
      "source": [
        "import ray\n",
        "import psutil\n",
        "import torch\n",
        "\n",
        "class ExperimentSpec:\n",
        "    def __init__(self, n, r, R, eta=2, time_constraint=None, budget_constraint=None):\n",
        "        self.n = n\n",
        "        self.r = r\n",
        "        self.R = R\n",
        "        self.eta = eta\n",
        "        self.time_constraint = time_constraint\n",
        "        self.budget_constraint = budget_constraint\n",
        "\n",
        "    def get_stage(self, i):\n",
        "        n_i = int(self.n * (self.eta ** -i))\n",
        "        r_i = int(self.r * (self.eta ** i))\n",
        "        return n_i, r_i\n",
        "\n",
        "    def num_stages(self):\n",
        "        import math\n",
        "        return int(math.floor(math.log(self.R / self.r, self.eta))) + 1\n",
        "\n",
        "class ResourceMonitor:\n",
        "    @staticmethod\n",
        "    def get_usage():\n",
        "        return {\n",
        "            \"cpu_usage\": psutil.cpu_percent(),\n",
        "            \"ram_usage\": psutil.virtual_memory().percent,\n",
        "            \"gpu_usage\": 0,\n",
        "            \"gpu_mem\": 0\n",
        "        }\n",
        "\n",
        "def run_real_experiment():\n",
        "    ray.shutdown()\n",
        "    ray.init(\n",
        "        num_cpus=psutil.cpu_count(),\n",
        "        num_gpus=torch.cuda.device_count(),\n",
        "        ignore_reinit_error=True\n",
        "    )\n",
        "\n",
        "    # Hyperparameters\n",
        "    hyperparams = [\n",
        "        {\"lr\": 1e-3, \"batch_size\": 64, \"weight_decay\": 1e-4},\n",
        "        {\"lr\": 3e-4, \"batch_size\": 128, \"weight_decay\": 1e-5},\n",
        "        {\"lr\": 1e-4, \"batch_size\": 256, \"weight_decay\": 0},\n",
        "        {\"lr\": 3e-3, \"batch_size\": 32, \"weight_decay\": 1e-3}\n",
        "    ]\n",
        "\n",
        "    spec = ExperimentSpec(n=4, r=5, R=30, eta=2)\n",
        "    best_trials = []\n",
        "\n",
        "    for stage_idx in range(spec.num_stages()):\n",
        "        n_i, r_i = spec.get_stage(stage_idx)\n",
        "        print(f\"\\n=== Stage {stage_idx+1}/{spec.num_stages()} ===\")\n",
        "        print(f\"Running {n_i} trials for {r_i} iterations\")\n",
        "\n",
        "        workers = [RealTrainingWorker.remote(config) for config in hyperparams[:n_i]]\n",
        "        futures = [worker.train.remote(r_i) for worker in workers]\n",
        "\n",
        "        results = []\n",
        "        while futures:\n",
        "            done, futures = ray.wait(futures, timeout=5.0)\n",
        "            if done:\n",
        "                res = ray.get(done)\n",
        "                results.extend(res)\n",
        "                for r in res:\n",
        "                    print(f\"Trial completed: {r['accuracy']:.4f} accuracy\")\n",
        "            print(f\"Resource usage: {ResourceMonitor.get_usage()}\")\n",
        "\n",
        "        results.sort(key=lambda x: -x[\"accuracy\"])\n",
        "        keep = max(1, len(results) // spec.eta)\n",
        "        best_trials = results[:keep]\n",
        "        hyperparams = [trial[\"config\"] for trial in best_trials]\n",
        "\n",
        "        print(f\"Best this stage: {best_trials[0]['accuracy']:.4f}\")\n",
        "\n",
        "    print(\"\\n=== Final Training ===\")\n",
        "    final_worker = RealTrainingWorker.remote(best_trials[0][\"config\"])\n",
        "    final_result = ray.get(final_worker.train.remote(spec.R))\n",
        "\n",
        "    print(f\"\\nFinal Accuracy: {final_result['accuracy']:.4f}\")\n",
        "    print(f\"Best Config: {best_trials[0]['config']}\")\n",
        "    print(f\"Resource Usage Summary: {ResourceMonitor.get_usage()}\")\n",
        "\n",
        "    return best_trials[0]\n"
      ],
      "metadata": {
        "id": "VYl19deaoeD6"
      },
      "execution_count": 105,
      "outputs": []
    },
    {
      "cell_type": "code",
      "source": [
        "best_result = run_real_experiment()\n"
      ],
      "metadata": {
        "colab": {
          "base_uri": "https://localhost:8080/"
        },
        "id": "19mocowLogiJ",
        "outputId": "7806f12d-e416-4f66-ca9b-2ffe7d686ac4"
      },
      "execution_count": 106,
      "outputs": [
        {
          "output_type": "stream",
          "name": "stderr",
          "text": [
            "2025-04-15 14:30:42,450\tINFO worker.py:1852 -- Started a local Ray instance.\n"
          ]
        },
        {
          "output_type": "stream",
          "name": "stdout",
          "text": [
            "\n",
            "=== Stage 1/3 ===\n",
            "Running 4 trials for 5 iterations\n",
            "Trial completed: 0.9556 accuracy\n",
            "Resource usage: {'cpu_usage': 18.5, 'ram_usage': 28.7, 'gpu_usage': 0, 'gpu_mem': 0}\n",
            "Trial completed: 0.9194 accuracy\n",
            "Resource usage: {'cpu_usage': 100.0, 'ram_usage': 28.8, 'gpu_usage': 0, 'gpu_mem': 0}\n",
            "Trial completed: 0.9528 accuracy\n",
            "Resource usage: {'cpu_usage': 100.0, 'ram_usage': 29.9, 'gpu_usage': 0, 'gpu_mem': 0}\n",
            "Trial completed: 0.9333 accuracy\n",
            "Resource usage: {'cpu_usage': 56.6, 'ram_usage': 30.2, 'gpu_usage': 0, 'gpu_mem': 0}\n",
            "Best this stage: 0.9556\n",
            "\n",
            "=== Stage 2/3 ===\n",
            "Running 2 trials for 10 iterations\n",
            "Trial completed: 0.9444 accuracy\n",
            "Resource usage: {'cpu_usage': 100.0, 'ram_usage': 28.2, 'gpu_usage': 0, 'gpu_mem': 0}\n",
            "Trial completed: 0.9472 accuracy\n",
            "Resource usage: {'cpu_usage': 100.0, 'ram_usage': 28.2, 'gpu_usage': 0, 'gpu_mem': 0}\n",
            "Best this stage: 0.9472\n",
            "\n",
            "=== Stage 3/3 ===\n",
            "Running 1 trials for 20 iterations\n",
            "Trial completed: 0.9556 accuracy\n",
            "Resource usage: {'cpu_usage': 99.4, 'ram_usage': 27.5, 'gpu_usage': 0, 'gpu_mem': 0}\n",
            "Best this stage: 0.9556\n",
            "\n",
            "=== Final Training ===\n",
            "\n",
            "Final Accuracy: 0.9639\n",
            "Best Config: {'lr': 0.0001, 'batch_size': 256, 'weight_decay': 0}\n",
            "Resource Usage Summary: {'cpu_usage': 63.8, 'ram_usage': 28.4, 'gpu_usage': 0, 'gpu_mem': 0}\n"
          ]
        }
      ]
    },
    {
      "cell_type": "code",
      "source": [
        "class CustomDataset(Dataset):\n",
        "    def __init__(self, dataframe, image_dir, transform=None):\n",
        "        self.data = dataframe\n",
        "        self.image_dir = image_dir\n",
        "        self.transform = transform\n",
        "\n",
        "    def __len__(self):\n",
        "        return len(self.data)\n",
        "\n",
        "    def __getitem__(self, idx):\n",
        "        img_id = str(self.data.iloc[idx, 0])\n",
        "        label = int(self.data.iloc[idx, 2])\n",
        "\n",
        "        image_path = os.path.join(self.image_dir, img_id)\n",
        "        image = Image.open(image_path).convert(\"RGB\")\n",
        "\n",
        "        if self.transform:\n",
        "            image = self.transform(image)\n",
        "\n",
        "        return image, label\n"
      ],
      "metadata": {
        "id": "F6fAWGrxzHnn"
      },
      "execution_count": 108,
      "outputs": []
    },
    {
      "cell_type": "code",
      "source": [
        "from torch.utils.data import Dataset\n",
        "from PIL import Image\n",
        "\n",
        "class RubberBandDataset(Dataset):\n",
        "    def __init__(self, df, image_root, transform=None):\n",
        "        self.df = df\n",
        "        self.image_root = image_root\n",
        "        self.transform = transform\n",
        "\n",
        "    def __len__(self):\n",
        "        return len(self.df)\n",
        "\n",
        "    def __getitem__(self, idx):\n",
        "        img_name = self.df.iloc[idx]['filename']\n",
        "        label = self.df.iloc[idx]['label']\n",
        "        img_path = os.path.join(self.image_root, img_name)\n",
        "        image = Image.open(img_path).convert(\"RGB\")\n",
        "\n",
        "        if self.transform:\n",
        "            image = self.transform(image)\n",
        "        return image, label\n"
      ],
      "metadata": {
        "id": "uCtL8laxp-ai"
      },
      "execution_count": 109,
      "outputs": []
    },
    {
      "cell_type": "code",
      "source": [
        "from torchvision import transforms\n",
        "from torch.utils.data import Dataset\n",
        "from PIL import Image\n",
        "import pandas as pd\n",
        "import os\n",
        "\n",
        "class CustomImageDataset(Dataset):\n",
        "    def __init__(self, csv_path, image_dir, transform=None):\n",
        "        self.data = pd.read_csv(csv_path)\n",
        "        self.image_dir = image_dir\n",
        "        self.transform = transform if transform else transforms.ToTensor()\n",
        "\n",
        "    def __len__(self):\n",
        "        return len(self.data)\n",
        "\n",
        "    def __getitem__(self, idx):\n",
        "        img_id = str(self.data.iloc[idx, 0])\n",
        "        label = int(self.data.iloc[idx, 1])\n",
        "\n",
        "\n",
        "        img_path = os.path.join(self.image_dir, img_id + '.png')\n",
        "\n",
        "\n",
        "        image = Image.open(img_path).convert('RGB')\n",
        "        image = self.transform(image)\n",
        "\n",
        "        return image, label\n"
      ],
      "metadata": {
        "id": "c0U1yFzmrVvS"
      },
      "execution_count": 110,
      "outputs": []
    },
    {
      "cell_type": "code",
      "source": [
        "import pandas as pd\n",
        "from sklearn.preprocessing import LabelEncoder\n",
        "\n",
        "# Load  CSV\n",
        "df = pd.read_csv('/content/updated_file.csv')\n",
        "\n",
        "# Encode the labels\n",
        "le = LabelEncoder()\n",
        "df['label_encoded'] = le.fit_transform(df['label'])\n",
        "\n",
        "print(df.head())\n"
      ],
      "metadata": {
        "colab": {
          "base_uri": "https://localhost:8080/"
        },
        "id": "6bNIj6vGzQCb",
        "outputId": "8904a85d-1b70-4bcc-b9da-64028e78b3ac"
      },
      "execution_count": 111,
      "outputs": [
        {
          "output_type": "stream",
          "name": "stdout",
          "text": [
            "    filename  label  label_encoded\n",
            "0   test.zip    dog              2\n",
            "1       test    cat              1\n",
            "2      train  truck              3\n",
            "3  train.zip    car              0\n"
          ]
        }
      ]
    },
    {
      "cell_type": "code",
      "source": [
        "transform = transforms.Compose([\n",
        "    transforms.Resize((128, 128)),\n",
        "    transforms.ToTensor()\n",
        "])\n",
        "\n",
        "train_dataset = CustomImageDataset(\n",
        "    csv_path=\"/content/train_test_files.csv\",\n",
        "    image_dir=\"/content/extracted_files/train_test/train/train\",\n",
        "    transform=transform\n",
        ")\n"
      ],
      "metadata": {
        "id": "FD-jwIU_rj7w"
      },
      "execution_count": 113,
      "outputs": []
    },
    {
      "cell_type": "code",
      "source": [
        "class CustomImageDataset(Dataset):\n",
        "    def __init__(self, csv_path, image_dir, transform=None):\n",
        "        self.data = pd.read_csv(csv_path)\n",
        "        self.image_dir = image_dir\n",
        "        self.transform = transform if transform else transforms.ToTensor()\n",
        "\n",
        "        # label mapping\n",
        "        self.label_to_idx = {label: idx for idx, label in enumerate(self.data['label'].unique())}\n",
        "        self.data['label'] = self.data['label'].map(self.label_to_idx)\n",
        "\n",
        "    def __len__(self):\n",
        "        return len(self.data)\n",
        "\n",
        "    def __getitem__(self, idx):\n",
        "        img_id = str(self.data.iloc[idx, 0])\n",
        "        label = int(self.data.iloc[idx, 1])\n",
        "        img_path = os.path.join(self.image_dir, img_id + '.png')\n",
        "        image = Image.open(img_path).convert('RGB')\n",
        "        image = self.transform(image)\n",
        "        return image, label\n"
      ],
      "metadata": {
        "id": "sLHN3Timooq_"
      },
      "execution_count": 114,
      "outputs": []
    },
    {
      "cell_type": "code",
      "source": [
        "torch.save(final_model.state_dict(), \"best_model.pth\")\n",
        "print(\" Model saved!\")\n"
      ],
      "metadata": {
        "colab": {
          "base_uri": "https://localhost:8080/"
        },
        "id": "V7-Oy8m0vAYI",
        "outputId": "fa5637af-1e31-420a-cbba-69d3aa97d4e7"
      },
      "execution_count": 115,
      "outputs": [
        {
          "output_type": "stream",
          "name": "stdout",
          "text": [
            "✅ Model saved!\n"
          ]
        }
      ]
    },
    {
      "cell_type": "code",
      "source": [
        "def predict_single_sample(model_path, sample):\n",
        "    model = RealModel(X_train.shape[1], len(np.unique(y_train)))\n",
        "    model.load_state_dict(torch.load(model_path, map_location=torch.device(\"cpu\")))\n",
        "    model.eval()\n",
        "\n",
        "    sample = torch.FloatTensor(sample).unsqueeze(0)  # Add batch dimension\n",
        "\n",
        "    with torch.no_grad():\n",
        "        output = model(sample)\n",
        "        _, predicted = torch.max(output.data, 1)\n",
        "\n",
        "    return predicted.item()\n"
      ],
      "metadata": {
        "id": "piyJnMXPwK-O"
      },
      "execution_count": 116,
      "outputs": []
    },
    {
      "cell_type": "code",
      "source": [
        "def predict_single_sample(model_path, sample, input_size=20, num_classes=2):\n",
        "    model = RealModel(input_size, num_classes)\n",
        "    model.load_state_dict(torch.load(model_path, map_location=torch.device(\"cpu\")))\n",
        "    model.eval()\n",
        "\n",
        "    sample = torch.FloatTensor(sample).unsqueeze(0)\n",
        "    with torch.no_grad():\n",
        "        output = model(sample)\n",
        "        _, predicted = torch.max(output.data, 1)\n",
        "\n",
        "    return predicted.item()\n"
      ],
      "metadata": {
        "id": "mgD_s-zdwMqP"
      },
      "execution_count": 118,
      "outputs": []
    },
    {
      "cell_type": "code",
      "source": [
        "def predict_single_sample(model_path, sample):\n",
        "\n",
        "    input_size = X_train.shape[1]\n",
        "    num_classes = len(np.unique(y_train))\n",
        "\n",
        "    model = RealModel(input_size, num_classes)\n",
        "    model.load_state_dict(torch.load(model_path, map_location=torch.device(\"cpu\")))\n",
        "    model.eval()\n",
        "\n",
        "    sample = torch.FloatTensor(sample).unsqueeze(0)\n",
        "\n",
        "    with torch.no_grad():\n",
        "        output = model(sample)\n",
        "        _, predicted = torch.max(output.data, 1)\n",
        "\n",
        "    return predicted.item()"
      ],
      "metadata": {
        "id": "73_DeiW4wj6C"
      },
      "execution_count": 122,
      "outputs": []
    },
    {
      "cell_type": "code",
      "source": [
        "# Create loaders\n",
        "image_dir = \"/content/extracted_files/train_test\"\n",
        "\n",
        "train_dataset = ImageDataset(train_df, image_dir, transform=transform)\n",
        "test_dataset = ImageDataset(test_df, image_dir, transform=transform)\n",
        "\n",
        "train_loader = DataLoader(train_dataset, batch_size=32, shuffle=True)\n",
        "test_loader = DataLoader(test_dataset, batch_size=32, shuffle=False)\n",
        "\n",
        "print(\" Data loaded successfully!\")\n",
        "print(\"Train samples:\", len(train_dataset))\n",
        "print(\"Test samples:\", len(test_dataset))\n",
        "print(\"Classes:\", le.classes_)\n"
      ],
      "metadata": {
        "colab": {
          "base_uri": "https://localhost:8080/"
        },
        "id": "qJ0McMRozY9j",
        "outputId": "e3879315-a8d7-43c1-828c-51d4ba840a8b"
      },
      "execution_count": 124,
      "outputs": [
        {
          "output_type": "stream",
          "name": "stdout",
          "text": [
            "✅ Data loaded successfully!\n",
            "Train samples: 40000\n",
            "Test samples: 10000\n",
            "Classes: ['car' 'cat' 'dog' 'truck']\n"
          ]
        }
      ]
    },
    {
      "cell_type": "code",
      "source": [
        "\n",
        "labels = ['dog', 'cat', 'truck', 'car']\n",
        "df = pd.read_csv('/content/train_test_files.csv')\n",
        "\n",
        "\n",
        "if len(labels) != len(df):\n",
        "  labels = labels[:len(df)]\n",
        "\n",
        "df['label'] = labels\n",
        "\n",
        "# Now encode\n",
        "le = LabelEncoder()\n",
        "df['label_encoded'] = le.fit_transform(df['label'])\n",
        "df.to_csv('updated_file.csv', index=False)"
      ],
      "metadata": {
        "id": "3IhEnm921B74"
      },
      "execution_count": 125,
      "outputs": []
    },
    {
      "cell_type": "code",
      "source": [
        "from torch.optim import AdamW\n"
      ],
      "metadata": {
        "id": "rJjy_k5w9VSP"
      },
      "execution_count": 129,
      "outputs": []
    },
    {
      "cell_type": "code",
      "source": [
        "\n",
        "\n",
        "import torchvision.transforms as transforms\n",
        "from torch.utils.data import DataLoader\n",
        "\n",
        "transform = transforms.Compose([\n",
        "    transforms.Resize((64, 64)),\n",
        "    transforms.ToTensor(),\n",
        "    transforms.Normalize((0.5,), (0.5,))\n",
        "])\n",
        " Point to your extracted images folder\n",
        "image_dir = \"/content/extracted_files/train_test\"\n",
        "\n",
        "train_dataset = ImageDataset(train_df, image_dir, transform=transform)\n",
        "test_dataset  = ImageDataset(test_df,  image_dir, transform=transform)\n",
        "\n",
        "\n",
        "train_loader = DataLoader(train_dataset, batch_size=32, shuffle=True)\n",
        "test_loader  = DataLoader(test_dataset,  batch_size=32, shuffle=False)\n",
        "\n",
        "print(f\"✔️ Train samples: {len(train_dataset)}\")\n",
        "print(f\"✔️ Test  samples: {len(test_dataset)}\")\n"
      ],
      "metadata": {
        "colab": {
          "base_uri": "https://localhost:8080/"
        },
        "id": "KIV0z-qW-0MC",
        "outputId": "eecbd075-a6e2-466d-af02-64f75ea44e78"
      },
      "execution_count": 136,
      "outputs": [
        {
          "output_type": "stream",
          "name": "stdout",
          "text": [
            "✔️ Train samples: 40000\n",
            "✔️ Test  samples: 10000\n"
          ]
        }
      ]
    },
    {
      "cell_type": "code",
      "source": [
        "import torch.nn as nn\n",
        "import torch.nn.functional as F\n",
        "\n",
        "class RealModel(nn.Module):\n",
        "    def __init__(self, num_classes):\n",
        "        super(RealModel, self).__init__()\n",
        "        self.conv1 = nn.Conv2d(3, 32, kernel_size=3, padding=1)\n",
        "        self.conv2 = nn.Conv2d(32, 64, kernel_size=3, padding=1)\n",
        "        self.pool = nn.MaxPool2d(2, 2)\n",
        "        self.dropout = nn.Dropout(0.3)\n",
        "        self.fc1 = nn.Linear(64 * 16 * 16, 128)\n",
        "        self.fc2 = nn.Linear(128, num_classes)\n",
        "\n",
        "    def forward(self, x):\n",
        "        x = self.pool(F.relu(self.conv1(x)))  # [B, 32, 32, 32]\n",
        "        x = self.pool(F.relu(self.conv2(x)))  # [B, 64, 16, 16]\n",
        "        x = x.view(x.size(0), -1)  # Flatten\n",
        "        x = self.dropout(F.relu(self.fc1(x)))\n",
        "        x = self.fc2(x)\n",
        "        return x\n"
      ],
      "metadata": {
        "id": "EyCMcVnj_wgq"
      },
      "execution_count": 140,
      "outputs": []
    }
  ]
}